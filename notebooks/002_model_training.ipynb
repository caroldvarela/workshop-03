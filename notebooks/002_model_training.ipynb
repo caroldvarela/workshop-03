{
 "cells": [
  {
   "cell_type": "code",
   "execution_count": 13,
   "metadata": {},
   "outputs": [],
   "source": [
    "import pandas as pd\n",
    "from sklearn.model_selection import train_test_split\n",
    "from sklearn.compose import ColumnTransformer\n",
    "from sklearn.preprocessing import StandardScaler\n",
    "from sklearn.ensemble import RandomForestRegressor, GradientBoostingRegressor\n",
    "from sklearn.linear_model import LinearRegression\n",
    "from sklearn.neighbors import KNeighborsRegressor\n",
    "from sklearn.svm import SVR\n",
    "from xgboost import XGBRegressor\n",
    "from sklearn.pipeline import Pipeline\n",
    "from sklearn.metrics import mean_absolute_error, mean_squared_error, r2_score, root_mean_squared_error\n",
    "import joblib\n",
    "import matplotlib.pyplot as plt\n",
    "import seaborn as sns\n"
   ]
  },
  {
   "cell_type": "code",
   "execution_count": 2,
   "metadata": {},
   "outputs": [],
   "source": [
    "df = pd.read_csv('../data/data_clean.csv')"
   ]
  },
  {
   "cell_type": "code",
   "execution_count": 3,
   "metadata": {},
   "outputs": [
    {
     "data": {
      "text/html": [
       "<div>\n",
       "<style scoped>\n",
       "    .dataframe tbody tr th:only-of-type {\n",
       "        vertical-align: middle;\n",
       "    }\n",
       "\n",
       "    .dataframe tbody tr th {\n",
       "        vertical-align: top;\n",
       "    }\n",
       "\n",
       "    .dataframe thead th {\n",
       "        text-align: right;\n",
       "    }\n",
       "</style>\n",
       "<table border=\"1\" class=\"dataframe\">\n",
       "  <thead>\n",
       "    <tr style=\"text-align: right;\">\n",
       "      <th></th>\n",
       "      <th>Healthy_life_expectancy</th>\n",
       "      <th>Social_support</th>\n",
       "      <th>Country</th>\n",
       "      <th>Economy</th>\n",
       "      <th>Generosity</th>\n",
       "      <th>Year</th>\n",
       "      <th>Freedom_to_make_life_choices</th>\n",
       "      <th>Region</th>\n",
       "      <th>Perceptions_of_corruption</th>\n",
       "      <th>Score</th>\n",
       "    </tr>\n",
       "  </thead>\n",
       "  <tbody>\n",
       "    <tr>\n",
       "      <th>0</th>\n",
       "      <td>0.94143</td>\n",
       "      <td>1.34951</td>\n",
       "      <td>Switzerland</td>\n",
       "      <td>1.39651</td>\n",
       "      <td>0.29678</td>\n",
       "      <td>2015</td>\n",
       "      <td>0.66557</td>\n",
       "      <td>Western Europe</td>\n",
       "      <td>0.41978</td>\n",
       "      <td>7.587</td>\n",
       "    </tr>\n",
       "    <tr>\n",
       "      <th>1</th>\n",
       "      <td>0.94784</td>\n",
       "      <td>1.40223</td>\n",
       "      <td>Iceland</td>\n",
       "      <td>1.30232</td>\n",
       "      <td>0.43630</td>\n",
       "      <td>2015</td>\n",
       "      <td>0.62877</td>\n",
       "      <td>Western Europe</td>\n",
       "      <td>0.14145</td>\n",
       "      <td>7.561</td>\n",
       "    </tr>\n",
       "    <tr>\n",
       "      <th>2</th>\n",
       "      <td>0.87464</td>\n",
       "      <td>1.36058</td>\n",
       "      <td>Denmark</td>\n",
       "      <td>1.32548</td>\n",
       "      <td>0.34139</td>\n",
       "      <td>2015</td>\n",
       "      <td>0.64938</td>\n",
       "      <td>Western Europe</td>\n",
       "      <td>0.48357</td>\n",
       "      <td>7.527</td>\n",
       "    </tr>\n",
       "    <tr>\n",
       "      <th>3</th>\n",
       "      <td>0.88521</td>\n",
       "      <td>1.33095</td>\n",
       "      <td>Norway</td>\n",
       "      <td>1.45900</td>\n",
       "      <td>0.34699</td>\n",
       "      <td>2015</td>\n",
       "      <td>0.66973</td>\n",
       "      <td>Western Europe</td>\n",
       "      <td>0.36503</td>\n",
       "      <td>7.522</td>\n",
       "    </tr>\n",
       "    <tr>\n",
       "      <th>4</th>\n",
       "      <td>0.90563</td>\n",
       "      <td>1.32261</td>\n",
       "      <td>Canada</td>\n",
       "      <td>1.32629</td>\n",
       "      <td>0.45811</td>\n",
       "      <td>2015</td>\n",
       "      <td>0.63297</td>\n",
       "      <td>North America</td>\n",
       "      <td>0.32957</td>\n",
       "      <td>7.427</td>\n",
       "    </tr>\n",
       "  </tbody>\n",
       "</table>\n",
       "</div>"
      ],
      "text/plain": [
       "   Healthy_life_expectancy  Social_support      Country  Economy  Generosity  \\\n",
       "0                  0.94143         1.34951  Switzerland  1.39651     0.29678   \n",
       "1                  0.94784         1.40223      Iceland  1.30232     0.43630   \n",
       "2                  0.87464         1.36058      Denmark  1.32548     0.34139   \n",
       "3                  0.88521         1.33095       Norway  1.45900     0.34699   \n",
       "4                  0.90563         1.32261       Canada  1.32629     0.45811   \n",
       "\n",
       "   Year  Freedom_to_make_life_choices          Region  \\\n",
       "0  2015                       0.66557  Western Europe   \n",
       "1  2015                       0.62877  Western Europe   \n",
       "2  2015                       0.64938  Western Europe   \n",
       "3  2015                       0.66973  Western Europe   \n",
       "4  2015                       0.63297   North America   \n",
       "\n",
       "   Perceptions_of_corruption  Score  \n",
       "0                    0.41978  7.587  \n",
       "1                    0.14145  7.561  \n",
       "2                    0.48357  7.527  \n",
       "3                    0.36503  7.522  \n",
       "4                    0.32957  7.427  "
      ]
     },
     "execution_count": 3,
     "metadata": {},
     "output_type": "execute_result"
    }
   ],
   "source": [
    "df.head()"
   ]
  },
  {
   "cell_type": "code",
   "execution_count": 4,
   "metadata": {},
   "outputs": [],
   "source": [
    "df = pd.get_dummies(df, columns=['Region'], drop_first=True)"
   ]
  },
  {
   "cell_type": "code",
   "execution_count": 5,
   "metadata": {},
   "outputs": [],
   "source": [
    "df.drop(columns=['Country'], axis=1, inplace=True)"
   ]
  },
  {
   "cell_type": "code",
   "execution_count": 6,
   "metadata": {},
   "outputs": [],
   "source": [
    "X = df.drop(columns=['Score']) \n",
    "y = df['Score'] \n",
    "\n",
    "X_train, X_test, y_train, y_test = train_test_split(X, y, test_size=0.3, random_state=42)"
   ]
  },
  {
   "cell_type": "code",
   "execution_count": 7,
   "metadata": {},
   "outputs": [],
   "source": [
    "num_cols = X.select_dtypes(include=['int64', 'float64']).columns.tolist()\n",
    "\n",
    "preprocessor = ColumnTransformer(\n",
    "    transformers=[\n",
    "        ('num', StandardScaler(), num_cols)  \n",
    "    ]\n",
    ")"
   ]
  },
  {
   "cell_type": "code",
   "execution_count": 8,
   "metadata": {},
   "outputs": [],
   "source": [
    "models = {\n",
    "    'Linear_Regression': LinearRegression(),\n",
    "    'Random_Forest': RandomForestRegressor(random_state=42),\n",
    "    'Gradient_Boosting': GradientBoostingRegressor(random_state=42),\n",
    "    'Support_Vector_Regression': SVR(),\n",
    "    'KNN_Regression': KNeighborsRegressor(),\n",
    "    'XGBoost': XGBRegressor(random_state=42)\n",
    "}"
   ]
  },
  {
   "cell_type": "code",
   "execution_count": 9,
   "metadata": {},
   "outputs": [],
   "source": [
    "def evaluate_models(X_train, y_train, X_test, y_test, models):\n",
    "    results = {}\n",
    "    best_model_name = None\n",
    "    best_r2 = -float('inf') \n",
    "    best_pipeline = None\n",
    "\n",
    "    for model_name, model in models.items():\n",
    "        pipeline = Pipeline(steps=[  \n",
    "            ('preprocessor', preprocessor),\n",
    "            ('regressor', model)  \n",
    "        ])\n",
    "        \n",
    "        pipeline.fit(X_train, y_train)  \n",
    "        \n",
    "        y_pred = pipeline.predict(X_test) \n",
    "        \n",
    "        mae = mean_absolute_error(y_test, y_pred)\n",
    "        mse_value = mean_squared_error(y_test, y_pred)\n",
    "        rmse = root_mean_squared_error(y_test, y_pred) \n",
    "        r2 = r2_score(y_test, y_pred)\n",
    "\n",
    "        results[model_name] = {\n",
    "            'MAE': mae,\n",
    "            'MSE': mse_value,\n",
    "            'RMSE': rmse,\n",
    "            'R²': r2\n",
    "        }\n",
    "\n",
    "        print(\"---------------------------------------------------------\")\n",
    "        print(f\"{model_name} Results:\")\n",
    "        print(f\"R²: {r2:.4f} \\nMAE: {mae:.4f}, MSE: {mse_value:.4f}, RMSE: {rmse:.4f}\")\n",
    "        print(\"---------------------------------------------------------\")\n",
    "        \n",
    "        if r2 > best_r2:\n",
    "            best_r2 = r2\n",
    "            best_model_name = model_name\n",
    "            best_pipeline = pipeline\n",
    "\n",
    "    if best_pipeline is not None:\n",
    "        best_model_path = f'../models/best_model_{best_model_name}.pkl'\n",
    "        joblib.dump(best_pipeline, f'../models/best_model_{best_model_name}.pkl')\n",
    "        print(f\"Best model saved as: ../models/best_model_{best_model_name}.pkl\")\n",
    "    \n",
    "    return best_model_path\n"
   ]
  },
  {
   "cell_type": "code",
   "execution_count": 10,
   "metadata": {},
   "outputs": [
    {
     "name": "stdout",
     "output_type": "stream",
     "text": [
      "---------------------------------------------------------\n",
      "Linear_Regression Results:\n",
      "R²: 0.7632 \n",
      "MAE: 0.4201, MSE: 0.2957, RMSE: 0.5438\n",
      "---------------------------------------------------------\n",
      "---------------------------------------------------------\n",
      "Random_Forest Results:\n",
      "R²: 0.8170 \n",
      "MAE: 0.3723, MSE: 0.2285, RMSE: 0.4780\n",
      "---------------------------------------------------------\n",
      "---------------------------------------------------------\n",
      "Gradient_Boosting Results:\n",
      "R²: 0.8025 \n",
      "MAE: 0.3916, MSE: 0.2466, RMSE: 0.4966\n",
      "---------------------------------------------------------\n",
      "---------------------------------------------------------\n",
      "Support_Vector_Regression Results:\n",
      "R²: 0.8144 \n",
      "MAE: 0.3715, MSE: 0.2318, RMSE: 0.4814\n",
      "---------------------------------------------------------\n",
      "---------------------------------------------------------\n",
      "KNN_Regression Results:\n",
      "R²: 0.7914 \n",
      "MAE: 0.3927, MSE: 0.2605, RMSE: 0.5104\n",
      "---------------------------------------------------------\n",
      "---------------------------------------------------------\n",
      "XGBoost Results:\n",
      "R²: 0.7836 \n",
      "MAE: 0.3987, MSE: 0.2702, RMSE: 0.5199\n",
      "---------------------------------------------------------\n",
      "Best model saved as: ../models/best_model_Random_Forest.pkl\n"
     ]
    }
   ],
   "source": [
    "best_model_path = evaluate_models(X_train, y_train, X_test, y_test, models)"
   ]
  },
  {
   "cell_type": "code",
   "execution_count": 11,
   "metadata": {},
   "outputs": [],
   "source": [
    "best_pipeline = joblib.load(best_model_path)"
   ]
  },
  {
   "cell_type": "code",
   "execution_count": 14,
   "metadata": {},
   "outputs": [
    {
     "data": {
      "image/png": "[encoded data removed]",
      "text/plain": [
       "<Figure size 1000x600 with 1 Axes>"
      ]
     },
     "metadata": {},
     "output_type": "display_data"
    }
   ],
   "source": [
    "importances = best_pipeline.named_steps['regressor'].feature_importances_\n",
    "\n",
    "feature_names = [col for col in num_cols if col != 'Score'] \n",
    "\n",
    "importance_df = pd.DataFrame({'Feature': feature_names, 'Importance': importances})\n",
    "importance_df = importance_df.sort_values(by='Importance', ascending=False)\n",
    "\n",
    "plt.figure(figsize=(10, 6))\n",
    "sns.barplot(x='Importance', y='Feature', data=importance_df.head(10), palette='viridis', dodge=False, hue='Feature', legend=False)\n",
    "plt.title('Top 10 Important Features', fontsize=16)\n",
    "plt.xlabel('Importance', fontsize=14)\n",
    "plt.ylabel('Features', fontsize=14)\n",
    "plt.grid(axis='x', linestyle='--', alpha=0.7)\n",
    "plt.show()"
   ]
  }
 ],
 "metadata": {
  "kernelspec": {
   "display_name": "venv",
   "language": "python",
   "name": "python3"
  },
  "language_info": {
   "codemirror_mode": {
    "name": "ipython",
    "version": 3
   },
   "file_extension": ".py",
   "mimetype": "text/x-python",
   "name": "python",
   "nbconvert_exporter": "python",
   "pygments_lexer": "ipython3",
   "version": "3.12.7"
  }
 },
 "nbformat": 4,
 "nbformat_minor": 2
}
