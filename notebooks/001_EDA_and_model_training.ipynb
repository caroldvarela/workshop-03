{
 "cells": [
  {
   "cell_type": "code",
   "execution_count": 1,
   "metadata": {},
   "outputs": [],
   "source": [
    "import pandas as pd\n",
    "from sklearn.model_selection import train_test_split\n",
    "from sklearn.linear_model import LinearRegression\n",
    "from sklearn.metrics import mean_squared_error, r2_score\n",
    "import seaborn as sns"
   ]
  },
  {
   "cell_type": "code",
   "execution_count": 2,
   "metadata": {},
   "outputs": [],
   "source": [
    "df_2015 = pd.read_csv(\"../data/2015.csv\")\n",
    "df_2016 = pd.read_csv(\"../data/2016.csv\")\n",
    "df_2017 = pd.read_csv(\"../data/2017.csv\")\n",
    "df_2018 = pd.read_csv(\"../data/2018.csv\")\n",
    "df_2019 = pd.read_csv(\"../data/2019.csv\")"
   ]
  },
  {
   "cell_type": "code",
   "execution_count": 16,
   "metadata": {},
   "outputs": [
    {
     "name": "stdout",
     "output_type": "stream",
     "text": [
      "Columns 2015:  Index(['Country', 'Region', 'Happiness Rank', 'Happiness Score',\n",
      "       'Standard Error', 'Economy (GDP per Capita)', 'Family',\n",
      "       'Health (Life Expectancy)', 'Freedom', 'Trust (Government Corruption)',\n",
      "       'Generosity', 'Dystopia Residual'],\n",
      "      dtype='object') \n",
      "\n",
      "Columns 2016:  Index(['Country', 'Region', 'Happiness Rank', 'Happiness Score',\n",
      "       'Lower Confidence Interval', 'Upper Confidence Interval',\n",
      "       'Economy (GDP per Capita)', 'Family', 'Health (Life Expectancy)',\n",
      "       'Freedom', 'Trust (Government Corruption)', 'Generosity',\n",
      "       'Dystopia Residual'],\n",
      "      dtype='object') \n",
      "\n",
      "Columns 2017:  Index(['Country', 'Happiness.Rank', 'Happiness.Score', 'Whisker.high',\n",
      "       'Whisker.low', 'Economy..GDP.per.Capita.', 'Family',\n",
      "       'Health..Life.Expectancy.', 'Freedom', 'Generosity',\n",
      "       'Trust..Government.Corruption.', 'Dystopia.Residual'],\n",
      "      dtype='object') \n",
      "\n",
      "Columns 2018:  Index(['Overall rank', 'Country or region', 'Score', 'GDP per capita',\n",
      "       'Social support', 'Healthy life expectancy',\n",
      "       'Freedom to make life choices', 'Generosity',\n",
      "       'Perceptions of corruption'],\n",
      "      dtype='object') \n",
      "\n",
      "Columns 2019:  Index(['Overall rank', 'Country or region', 'Score', 'GDP per capita',\n",
      "       'Social support', 'Healthy life expectancy',\n",
      "       'Freedom to make life choices', 'Generosity',\n",
      "       'Perceptions of corruption'],\n",
      "      dtype='object')\n"
     ]
    }
   ],
   "source": [
    "print(\"Columns 2015: \", df_2015.columns, \"\\n\")\n",
    "print(\"Columns 2016: \", df_2016.columns, \"\\n\")\n",
    "print(\"Columns 2017: \", df_2017.columns, \"\\n\")\n",
    "print(\"Columns 2018: \", df_2018.columns, \"\\n\")\n",
    "print(\"Columns 2019: \", df_2019.columns)"
   ]
  },
  {
   "cell_type": "code",
   "execution_count": 3,
   "metadata": {},
   "outputs": [
    {
     "name": "stdout",
     "output_type": "stream",
     "text": [
      "2015:  (158, 12)\n",
      "2016:  (157, 13)\n",
      "2017:  (155, 12)\n",
      "2018:  (156, 9)\n",
      "2019:  (156, 9)\n"
     ]
    }
   ],
   "source": [
    "print(\"2015: \", df_2015.shape)\n",
    "print(\"2016: \", df_2016.shape)\n",
    "print(\"2017: \", df_2017.shape)\n",
    "print(\"2018: \", df_2018.shape)\n",
    "print(\"2019: \", df_2019.shape)"
   ]
  },
  {
   "cell_type": "code",
   "execution_count": 4,
   "metadata": {},
   "outputs": [
    {
     "name": "stdout",
     "output_type": "stream",
     "text": [
      "<class 'pandas.core.frame.DataFrame'>\n",
      "RangeIndex: 157 entries, 0 to 156\n",
      "Data columns (total 13 columns):\n",
      " #   Column                         Non-Null Count  Dtype  \n",
      "---  ------                         --------------  -----  \n",
      " 0   Country                        157 non-null    object \n",
      " 1   Region                         157 non-null    object \n",
      " 2   Happiness Rank                 157 non-null    int64  \n",
      " 3   Happiness Score                157 non-null    float64\n",
      " 4   Lower Confidence Interval      157 non-null    float64\n",
      " 5   Upper Confidence Interval      157 non-null    float64\n",
      " 6   Economy (GDP per Capita)       157 non-null    float64\n",
      " 7   Family                         157 non-null    float64\n",
      " 8   Health (Life Expectancy)       157 non-null    float64\n",
      " 9   Freedom                        157 non-null    float64\n",
      " 10  Trust (Government Corruption)  157 non-null    float64\n",
      " 11  Generosity                     157 non-null    float64\n",
      " 12  Dystopia Residual              157 non-null    float64\n",
      "dtypes: float64(10), int64(1), object(2)\n",
      "memory usage: 16.1+ KB\n"
     ]
    }
   ],
   "source": [
    "df_2016.info()"
   ]
  },
  {
   "cell_type": "code",
   "execution_count": 5,
   "metadata": {},
   "outputs": [
    {
     "name": "stdout",
     "output_type": "stream",
     "text": [
      "<class 'pandas.core.frame.DataFrame'>\n",
      "RangeIndex: 155 entries, 0 to 154\n",
      "Data columns (total 12 columns):\n",
      " #   Column                         Non-Null Count  Dtype  \n",
      "---  ------                         --------------  -----  \n",
      " 0   Country                        155 non-null    object \n",
      " 1   Happiness.Rank                 155 non-null    int64  \n",
      " 2   Happiness.Score                155 non-null    float64\n",
      " 3   Whisker.high                   155 non-null    float64\n",
      " 4   Whisker.low                    155 non-null    float64\n",
      " 5   Economy..GDP.per.Capita.       155 non-null    float64\n",
      " 6   Family                         155 non-null    float64\n",
      " 7   Health..Life.Expectancy.       155 non-null    float64\n",
      " 8   Freedom                        155 non-null    float64\n",
      " 9   Generosity                     155 non-null    float64\n",
      " 10  Trust..Government.Corruption.  155 non-null    float64\n",
      " 11  Dystopia.Residual              155 non-null    float64\n",
      "dtypes: float64(10), int64(1), object(1)\n",
      "memory usage: 14.7+ KB\n"
     ]
    }
   ],
   "source": [
    "df_2017.info()"
   ]
  },
  {
   "cell_type": "code",
   "execution_count": 6,
   "metadata": {},
   "outputs": [
    {
     "name": "stdout",
     "output_type": "stream",
     "text": [
      "<class 'pandas.core.frame.DataFrame'>\n",
      "RangeIndex: 156 entries, 0 to 155\n",
      "Data columns (total 9 columns):\n",
      " #   Column                        Non-Null Count  Dtype  \n",
      "---  ------                        --------------  -----  \n",
      " 0   Overall rank                  156 non-null    int64  \n",
      " 1   Country or region             156 non-null    object \n",
      " 2   Score                         156 non-null    float64\n",
      " 3   GDP per capita                156 non-null    float64\n",
      " 4   Social support                156 non-null    float64\n",
      " 5   Healthy life expectancy       156 non-null    float64\n",
      " 6   Freedom to make life choices  156 non-null    float64\n",
      " 7   Generosity                    156 non-null    float64\n",
      " 8   Perceptions of corruption     155 non-null    float64\n",
      "dtypes: float64(7), int64(1), object(1)\n",
      "memory usage: 11.1+ KB\n"
     ]
    }
   ],
   "source": [
    "df_2018.info()"
   ]
  },
  {
   "cell_type": "code",
   "execution_count": 7,
   "metadata": {},
   "outputs": [
    {
     "name": "stdout",
     "output_type": "stream",
     "text": [
      "<class 'pandas.core.frame.DataFrame'>\n",
      "RangeIndex: 156 entries, 0 to 155\n",
      "Data columns (total 9 columns):\n",
      " #   Column                        Non-Null Count  Dtype  \n",
      "---  ------                        --------------  -----  \n",
      " 0   Overall rank                  156 non-null    int64  \n",
      " 1   Country or region             156 non-null    object \n",
      " 2   Score                         156 non-null    float64\n",
      " 3   GDP per capita                156 non-null    float64\n",
      " 4   Social support                156 non-null    float64\n",
      " 5   Healthy life expectancy       156 non-null    float64\n",
      " 6   Freedom to make life choices  156 non-null    float64\n",
      " 7   Generosity                    156 non-null    float64\n",
      " 8   Perceptions of corruption     156 non-null    float64\n",
      "dtypes: float64(7), int64(1), object(1)\n",
      "memory usage: 11.1+ KB\n"
     ]
    }
   ],
   "source": [
    "df_2019.info()"
   ]
  },
  {
   "cell_type": "code",
   "execution_count": 8,
   "metadata": {},
   "outputs": [
    {
     "name": "stdout",
     "output_type": "stream",
     "text": [
      "---------------------------------\n",
      "Null Values df_2015:\n",
      "---------------------------------\n",
      "Series([], dtype: int64)\n",
      "\n",
      "---------------------------------\n",
      "Null Values df_2016:\n",
      "---------------------------------\n",
      "Series([], dtype: int64)\n",
      "\n",
      "---------------------------------\n",
      "Null Values df_2017:\n",
      "---------------------------------\n",
      "Series([], dtype: int64)\n",
      "\n",
      "---------------------------------\n",
      "Null Values df_2018:\n",
      "---------------------------------\n",
      "Perceptions of corruption    1\n",
      "dtype: int64\n",
      "\n",
      "---------------------------------\n",
      "Null Values df_2019:\n",
      "---------------------------------\n",
      "Series([], dtype: int64)\n",
      "\n"
     ]
    }
   ],
   "source": [
    "null = {\n",
    "    'df_2015': df_2015.isna().sum(),\n",
    "    'df_2016': df_2016.isna().sum(),\n",
    "    'df_2017': df_2017.isna().sum(),\n",
    "    'df_2018': df_2018.isna().sum(),\n",
    "    'df_2019': df_2019.isna().sum(),\n",
    "}\n",
    "\n",
    "for name, summary in null.items():\n",
    "    print(\"---------------------------------\")\n",
    "    print(f\"Null Values {name}:\\n---------------------------------\\n{summary[summary > 0]}\\n\")"
   ]
  },
  {
   "cell_type": "code",
   "execution_count": 9,
   "metadata": {},
   "outputs": [
    {
     "data": {
      "text/html": [
       "<div>\n",
       "<style scoped>\n",
       "    .dataframe tbody tr th:only-of-type {\n",
       "        vertical-align: middle;\n",
       "    }\n",
       "\n",
       "    .dataframe tbody tr th {\n",
       "        vertical-align: top;\n",
       "    }\n",
       "\n",
       "    .dataframe thead th {\n",
       "        text-align: right;\n",
       "    }\n",
       "</style>\n",
       "<table border=\"1\" class=\"dataframe\">\n",
       "  <thead>\n",
       "    <tr style=\"text-align: right;\">\n",
       "      <th></th>\n",
       "      <th>Overall rank</th>\n",
       "      <th>Country or region</th>\n",
       "      <th>Score</th>\n",
       "      <th>GDP per capita</th>\n",
       "      <th>Social support</th>\n",
       "      <th>Healthy life expectancy</th>\n",
       "      <th>Freedom to make life choices</th>\n",
       "      <th>Generosity</th>\n",
       "      <th>Perceptions of corruption</th>\n",
       "    </tr>\n",
       "  </thead>\n",
       "  <tbody>\n",
       "    <tr>\n",
       "      <th>19</th>\n",
       "      <td>20</td>\n",
       "      <td>United Arab Emirates</td>\n",
       "      <td>6.774</td>\n",
       "      <td>2.096</td>\n",
       "      <td>0.776</td>\n",
       "      <td>0.67</td>\n",
       "      <td>0.284</td>\n",
       "      <td>0.186</td>\n",
       "      <td>NaN</td>\n",
       "    </tr>\n",
       "  </tbody>\n",
       "</table>\n",
       "</div>"
      ],
      "text/plain": [
       "    Overall rank     Country or region  Score  GDP per capita  Social support  \\\n",
       "19            20  United Arab Emirates  6.774           2.096           0.776   \n",
       "\n",
       "    Healthy life expectancy  Freedom to make life choices  Generosity  \\\n",
       "19                     0.67                         0.284       0.186   \n",
       "\n",
       "    Perceptions of corruption  \n",
       "19                        NaN  "
      ]
     },
     "execution_count": 9,
     "metadata": {},
     "output_type": "execute_result"
    }
   ],
   "source": [
    "nan_records = df_2018[df_2018.isna().any(axis=1)]\n",
    "nan_records"
   ]
  },
  {
   "cell_type": "code",
   "execution_count": 10,
   "metadata": {},
   "outputs": [],
   "source": [
    "nan_record_index = df_2018[df_2018.isna().any(axis=1)].index\n",
    "df_2018.drop(nan_record_index, inplace=True)"
   ]
  },
  {
   "cell_type": "code",
   "execution_count": 11,
   "metadata": {},
   "outputs": [],
   "source": [
    "# 2015\n",
    "df_2015.rename(columns={\n",
    "    'Happiness Rank': 'Happiness_Rank',\n",
    "    'Happiness Score': 'Score',\n",
    "    'Economy (GDP per Capita)': 'Economy',\n",
    "    'Family': 'Social_support',\n",
    "    'Health (Life Expectancy)': 'Healthy_life_expectancy',\n",
    "    'Freedom': 'Freedom_to_make_life_choices',\n",
    "    'Trust (Government Corruption)': 'Perceptions_of_corruption',\n",
    "    'Generosity': 'Generosity',\n",
    "    'Dystopia Residual': 'Dystopia_Residual' \n",
    "}, inplace=True)\n",
    "df_2015['Year'] = 2015\n",
    "\n",
    "# 2016\n",
    "df_2016.rename(columns={\n",
    "    'Happiness Rank': 'Happiness_Rank',\n",
    "    'Happiness Score': 'Score',\n",
    "    'Lower Confidence Interval': 'Lower_Confidence_Interval',\n",
    "    'Upper Confidence Interval': 'Upper_Confidence_Interval',\n",
    "    'Economy (GDP per Capita)': 'Economy',\n",
    "    'Family': 'Social_support',\n",
    "    'Health (Life Expectancy)': 'Healthy_life_expectancy',\n",
    "    'Freedom': 'Freedom_to_make_life_choices',\n",
    "    'Trust (Government Corruption)': 'Perceptions_of_corruption',\n",
    "    'Generosity': 'Generosity',\n",
    "    'Dystopia Residual': 'Dystopia_Residual'\n",
    "}, inplace=True)\n",
    "df_2016['Year'] = 2016\n",
    "\n",
    "# 2017\n",
    "df_2017.rename(columns={\n",
    "    'Happiness.Rank': 'Happiness_Rank',\n",
    "    'Happiness.Score': 'Score',\n",
    "    'Whisker.high': 'Whisker_high',\n",
    "    'Whisker.low': 'Whisker_low',\n",
    "    'Economy..GDP.per.Capita.': 'Economy',\n",
    "    'Family': 'Social_support',\n",
    "    'Health..Life.Expectancy.': 'Healthy_life_expectancy',\n",
    "    'Freedom': 'Freedom_to_make_life_choices',\n",
    "    'Generosity': 'Generosity',\n",
    "    'Trust..Government.Corruption.': 'Perceptions_of_corruption',\n",
    "    'Dystopia.Residual': 'Dystopia_Residual'\n",
    "}, inplace=True)\n",
    "df_2017['Year'] = 2017\n",
    "\n",
    "# 2018\n",
    "df_2018.rename(columns={\n",
    "    'Overall rank': 'Happiness_Rank',\n",
    "    'Country or region': 'Country',\n",
    "    'Score': 'Score',\n",
    "    'GDP per capita': 'Economy',\n",
    "    'Social support': 'Social_support',\n",
    "    'Healthy life expectancy': 'Healthy_life_expectancy',\n",
    "    'Freedom to make life choices': 'Freedom_to_make_life_choices',\n",
    "    'Generosity': 'Generosity',\n",
    "    'Perceptions of corruption': 'Perceptions_of_corruption'\n",
    "}, inplace=True)\n",
    "df_2018['Year'] = 2018\n",
    "\n",
    "# 2019\n",
    "df_2019.rename(columns={\n",
    "    'Overall rank': 'Happiness_Rank',\n",
    "    'Country or region': 'Country',\n",
    "    'Score': 'Score',\n",
    "    'GDP per capita': 'Economy',\n",
    "    'Social support': 'Social_support',\n",
    "    'Healthy life expectancy': 'Healthy_life_expectancy',\n",
    "    'Freedom to make life choices': 'Freedom_to_make_life_choices',\n",
    "    'Generosity': 'Generosity',\n",
    "    'Perceptions of corruption': 'Perceptions_of_corruption'\n",
    "}, inplace=True)\n",
    "df_2019['Year'] = 2019"
   ]
  },
  {
   "cell_type": "code",
   "execution_count": 12,
   "metadata": {},
   "outputs": [],
   "source": [
    "region_dict_2016 = df_2016[['Country', 'Region']].drop_duplicates().set_index('Country').to_dict()['Region']\n",
    "\n",
    "df_2017['Region'] = pd.NA\n",
    "df_2018['Region'] = pd.NA\n",
    "df_2019['Region'] = pd.NA\n",
    "\n",
    "df_2017['Region'] = df_2017['Region'].fillna(df_2017['Country'].map(region_dict_2016))\n",
    "df_2018['Region'] = df_2018['Region'].fillna(df_2018['Country'].map(region_dict_2016))\n",
    "df_2019['Region'] = df_2019['Region'].fillna(df_2019['Country'].map(region_dict_2016))\n",
    "\n",
    "df = pd.concat([df_2015, df_2016, df_2017, df_2018, df_2019], ignore_index=True)"
   ]
  },
  {
   "cell_type": "code",
   "execution_count": 13,
   "metadata": {},
   "outputs": [
    {
     "data": {
      "text/plain": [
       "Country                           0\n",
       "Region                           18\n",
       "Happiness_Rank                    0\n",
       "Score                             0\n",
       "Standard Error                  623\n",
       "Economy                           0\n",
       "Social_support                    0\n",
       "Healthy_life_expectancy           0\n",
       "Freedom_to_make_life_choices      0\n",
       "Perceptions_of_corruption         0\n",
       "Generosity                        0\n",
       "Dystopia_Residual               311\n",
       "Year                              0\n",
       "Lower_Confidence_Interval       624\n",
       "Upper_Confidence_Interval       624\n",
       "Whisker_high                    626\n",
       "Whisker_low                     626\n",
       "dtype: int64"
      ]
     },
     "execution_count": 13,
     "metadata": {},
     "output_type": "execute_result"
    }
   ],
   "source": [
    "df.isna().sum()"
   ]
  },
  {
   "cell_type": "code",
   "execution_count": 14,
   "metadata": {},
   "outputs": [
    {
     "name": "stdout",
     "output_type": "stream",
     "text": [
      "Common columns: {'Country', 'Happiness_Rank', 'Healthy_life_expectancy', 'Generosity', 'Region', 'Perceptions_of_corruption', 'Social_support', 'Year', 'Freedom_to_make_life_choices', 'Score', 'Economy'}\n"
     ]
    }
   ],
   "source": [
    "columns_2015 = set(df_2015.columns)\n",
    "columns_2016 = set(df_2016.columns)\n",
    "columns_2017 = set(df_2017.columns)\n",
    "columns_2018 = set(df_2018.columns)\n",
    "columns_2019 = set(df_2019.columns)\n",
    "\n",
    "common_columns = columns_2015 & columns_2016 & columns_2017 & columns_2018 & columns_2019\n",
    "\n",
    "print(\"Common columns:\", common_columns)"
   ]
  },
  {
   "cell_type": "code",
   "execution_count": 15,
   "metadata": {},
   "outputs": [],
   "source": [
    "common_columns = ['Score', 'Happiness_Rank', 'Healthy_life_expectancy', 'Social_support', \n",
    "                  'Country', 'Economy', 'Generosity', 'Year', \n",
    "                  'Freedom_to_make_life_choices', 'Region', 'Perceptions_of_corruption']\n",
    "\n",
    "df_2015 = df_2015[common_columns]\n",
    "df_2016 = df_2016[common_columns]\n",
    "df_2017 = df_2017[common_columns]\n",
    "df_2018 = df_2018[common_columns]\n",
    "df_2019 = df_2019[common_columns]\n",
    "\n",
    "\n",
    "df = pd.concat([df_2015, df_2016, df_2017,df_2018, df_2019], ignore_index=True)\n",
    "\n",
    "region_mapping = {\n",
    "    'Taiwan Province of China': 'Eastern Asia',\n",
    "    'Hong Kong S.A.R., China': 'Eastern Asia',\n",
    "    'Mozambique': 'Sub-Saharan Africa',\n",
    "    'Lesotho': 'Sub-Saharan Africa',\n",
    "    'Central African Republic': 'Sub-Saharan Africa',\n",
    "    'Trinidad & Tobago': 'Latin America and Caribbean',\n",
    "    'Northern Cyprus': 'Western Europe',\n",
    "    'North Macedonia': 'Central and Eastern Europe',\n",
    "    'Gambia': 'Sub-Saharan Africa',\n",
    "    'Swaziland': 'Sub-Saharan Africa'\n",
    "}\n",
    "\n",
    "df['Region'] = df['Region'].fillna(df['Country'].map(region_mapping))\n",
    "                "
   ]
  },
  {
   "cell_type": "code",
   "execution_count": 16,
   "metadata": {},
   "outputs": [],
   "source": [
    "score = df.pop('Score')\n",
    "df['Score'] = score"
   ]
  },
  {
   "cell_type": "code",
   "execution_count": 17,
   "metadata": {},
   "outputs": [
    {
     "data": {
      "text/html": [
       "<div>\n",
       "<style scoped>\n",
       "    .dataframe tbody tr th:only-of-type {\n",
       "        vertical-align: middle;\n",
       "    }\n",
       "\n",
       "    .dataframe tbody tr th {\n",
       "        vertical-align: top;\n",
       "    }\n",
       "\n",
       "    .dataframe thead th {\n",
       "        text-align: right;\n",
       "    }\n",
       "</style>\n",
       "<table border=\"1\" class=\"dataframe\">\n",
       "  <thead>\n",
       "    <tr style=\"text-align: right;\">\n",
       "      <th></th>\n",
       "      <th>Happiness_Rank</th>\n",
       "      <th>Healthy_life_expectancy</th>\n",
       "      <th>Social_support</th>\n",
       "      <th>Country</th>\n",
       "      <th>Economy</th>\n",
       "      <th>Generosity</th>\n",
       "      <th>Year</th>\n",
       "      <th>Freedom_to_make_life_choices</th>\n",
       "      <th>Region</th>\n",
       "      <th>Perceptions_of_corruption</th>\n",
       "      <th>Score</th>\n",
       "    </tr>\n",
       "  </thead>\n",
       "  <tbody>\n",
       "    <tr>\n",
       "      <th>0</th>\n",
       "      <td>1</td>\n",
       "      <td>0.94143</td>\n",
       "      <td>1.34951</td>\n",
       "      <td>Switzerland</td>\n",
       "      <td>1.39651</td>\n",
       "      <td>0.29678</td>\n",
       "      <td>2015</td>\n",
       "      <td>0.66557</td>\n",
       "      <td>Western Europe</td>\n",
       "      <td>0.41978</td>\n",
       "      <td>7.587</td>\n",
       "    </tr>\n",
       "    <tr>\n",
       "      <th>1</th>\n",
       "      <td>2</td>\n",
       "      <td>0.94784</td>\n",
       "      <td>1.40223</td>\n",
       "      <td>Iceland</td>\n",
       "      <td>1.30232</td>\n",
       "      <td>0.43630</td>\n",
       "      <td>2015</td>\n",
       "      <td>0.62877</td>\n",
       "      <td>Western Europe</td>\n",
       "      <td>0.14145</td>\n",
       "      <td>7.561</td>\n",
       "    </tr>\n",
       "    <tr>\n",
       "      <th>2</th>\n",
       "      <td>3</td>\n",
       "      <td>0.87464</td>\n",
       "      <td>1.36058</td>\n",
       "      <td>Denmark</td>\n",
       "      <td>1.32548</td>\n",
       "      <td>0.34139</td>\n",
       "      <td>2015</td>\n",
       "      <td>0.64938</td>\n",
       "      <td>Western Europe</td>\n",
       "      <td>0.48357</td>\n",
       "      <td>7.527</td>\n",
       "    </tr>\n",
       "    <tr>\n",
       "      <th>3</th>\n",
       "      <td>4</td>\n",
       "      <td>0.88521</td>\n",
       "      <td>1.33095</td>\n",
       "      <td>Norway</td>\n",
       "      <td>1.45900</td>\n",
       "      <td>0.34699</td>\n",
       "      <td>2015</td>\n",
       "      <td>0.66973</td>\n",
       "      <td>Western Europe</td>\n",
       "      <td>0.36503</td>\n",
       "      <td>7.522</td>\n",
       "    </tr>\n",
       "    <tr>\n",
       "      <th>4</th>\n",
       "      <td>5</td>\n",
       "      <td>0.90563</td>\n",
       "      <td>1.32261</td>\n",
       "      <td>Canada</td>\n",
       "      <td>1.32629</td>\n",
       "      <td>0.45811</td>\n",
       "      <td>2015</td>\n",
       "      <td>0.63297</td>\n",
       "      <td>North America</td>\n",
       "      <td>0.32957</td>\n",
       "      <td>7.427</td>\n",
       "    </tr>\n",
       "    <tr>\n",
       "      <th>...</th>\n",
       "      <td>...</td>\n",
       "      <td>...</td>\n",
       "      <td>...</td>\n",
       "      <td>...</td>\n",
       "      <td>...</td>\n",
       "      <td>...</td>\n",
       "      <td>...</td>\n",
       "      <td>...</td>\n",
       "      <td>...</td>\n",
       "      <td>...</td>\n",
       "      <td>...</td>\n",
       "    </tr>\n",
       "    <tr>\n",
       "      <th>776</th>\n",
       "      <td>152</td>\n",
       "      <td>0.61400</td>\n",
       "      <td>0.71100</td>\n",
       "      <td>Rwanda</td>\n",
       "      <td>0.35900</td>\n",
       "      <td>0.21700</td>\n",
       "      <td>2019</td>\n",
       "      <td>0.55500</td>\n",
       "      <td>Sub-Saharan Africa</td>\n",
       "      <td>0.41100</td>\n",
       "      <td>3.334</td>\n",
       "    </tr>\n",
       "    <tr>\n",
       "      <th>777</th>\n",
       "      <td>153</td>\n",
       "      <td>0.49900</td>\n",
       "      <td>0.88500</td>\n",
       "      <td>Tanzania</td>\n",
       "      <td>0.47600</td>\n",
       "      <td>0.27600</td>\n",
       "      <td>2019</td>\n",
       "      <td>0.41700</td>\n",
       "      <td>Sub-Saharan Africa</td>\n",
       "      <td>0.14700</td>\n",
       "      <td>3.231</td>\n",
       "    </tr>\n",
       "    <tr>\n",
       "      <th>778</th>\n",
       "      <td>154</td>\n",
       "      <td>0.36100</td>\n",
       "      <td>0.51700</td>\n",
       "      <td>Afghanistan</td>\n",
       "      <td>0.35000</td>\n",
       "      <td>0.15800</td>\n",
       "      <td>2019</td>\n",
       "      <td>0.00000</td>\n",
       "      <td>Southern Asia</td>\n",
       "      <td>0.02500</td>\n",
       "      <td>3.203</td>\n",
       "    </tr>\n",
       "    <tr>\n",
       "      <th>779</th>\n",
       "      <td>155</td>\n",
       "      <td>0.10500</td>\n",
       "      <td>0.00000</td>\n",
       "      <td>Central African Republic</td>\n",
       "      <td>0.02600</td>\n",
       "      <td>0.23500</td>\n",
       "      <td>2019</td>\n",
       "      <td>0.22500</td>\n",
       "      <td>Sub-Saharan Africa</td>\n",
       "      <td>0.03500</td>\n",
       "      <td>3.083</td>\n",
       "    </tr>\n",
       "    <tr>\n",
       "      <th>780</th>\n",
       "      <td>156</td>\n",
       "      <td>0.29500</td>\n",
       "      <td>0.57500</td>\n",
       "      <td>South Sudan</td>\n",
       "      <td>0.30600</td>\n",
       "      <td>0.20200</td>\n",
       "      <td>2019</td>\n",
       "      <td>0.01000</td>\n",
       "      <td>Sub-Saharan Africa</td>\n",
       "      <td>0.09100</td>\n",
       "      <td>2.853</td>\n",
       "    </tr>\n",
       "  </tbody>\n",
       "</table>\n",
       "<p>781 rows × 11 columns</p>\n",
       "</div>"
      ],
      "text/plain": [
       "     Happiness_Rank  Healthy_life_expectancy  Social_support  \\\n",
       "0                 1                  0.94143         1.34951   \n",
       "1                 2                  0.94784         1.40223   \n",
       "2                 3                  0.87464         1.36058   \n",
       "3                 4                  0.88521         1.33095   \n",
       "4                 5                  0.90563         1.32261   \n",
       "..              ...                      ...             ...   \n",
       "776             152                  0.61400         0.71100   \n",
       "777             153                  0.49900         0.88500   \n",
       "778             154                  0.36100         0.51700   \n",
       "779             155                  0.10500         0.00000   \n",
       "780             156                  0.29500         0.57500   \n",
       "\n",
       "                      Country  Economy  Generosity  Year  \\\n",
       "0                 Switzerland  1.39651     0.29678  2015   \n",
       "1                     Iceland  1.30232     0.43630  2015   \n",
       "2                     Denmark  1.32548     0.34139  2015   \n",
       "3                      Norway  1.45900     0.34699  2015   \n",
       "4                      Canada  1.32629     0.45811  2015   \n",
       "..                        ...      ...         ...   ...   \n",
       "776                    Rwanda  0.35900     0.21700  2019   \n",
       "777                  Tanzania  0.47600     0.27600  2019   \n",
       "778               Afghanistan  0.35000     0.15800  2019   \n",
       "779  Central African Republic  0.02600     0.23500  2019   \n",
       "780               South Sudan  0.30600     0.20200  2019   \n",
       "\n",
       "     Freedom_to_make_life_choices              Region  \\\n",
       "0                         0.66557      Western Europe   \n",
       "1                         0.62877      Western Europe   \n",
       "2                         0.64938      Western Europe   \n",
       "3                         0.66973      Western Europe   \n",
       "4                         0.63297       North America   \n",
       "..                            ...                 ...   \n",
       "776                       0.55500  Sub-Saharan Africa   \n",
       "777                       0.41700  Sub-Saharan Africa   \n",
       "778                       0.00000       Southern Asia   \n",
       "779                       0.22500  Sub-Saharan Africa   \n",
       "780                       0.01000  Sub-Saharan Africa   \n",
       "\n",
       "     Perceptions_of_corruption  Score  \n",
       "0                      0.41978  7.587  \n",
       "1                      0.14145  7.561  \n",
       "2                      0.48357  7.527  \n",
       "3                      0.36503  7.522  \n",
       "4                      0.32957  7.427  \n",
       "..                         ...    ...  \n",
       "776                    0.41100  3.334  \n",
       "777                    0.14700  3.231  \n",
       "778                    0.02500  3.203  \n",
       "779                    0.03500  3.083  \n",
       "780                    0.09100  2.853  \n",
       "\n",
       "[781 rows x 11 columns]"
      ]
     },
     "execution_count": 17,
     "metadata": {},
     "output_type": "execute_result"
    }
   ],
   "source": [
    "df"
   ]
  },
  {
   "cell_type": "code",
   "execution_count": 18,
   "metadata": {},
   "outputs": [
    {
     "data": {
      "text/plain": [
       "Happiness_Rank                  0\n",
       "Healthy_life_expectancy         0\n",
       "Social_support                  0\n",
       "Country                         0\n",
       "Economy                         0\n",
       "Generosity                      0\n",
       "Year                            0\n",
       "Freedom_to_make_life_choices    0\n",
       "Region                          0\n",
       "Perceptions_of_corruption       0\n",
       "Score                           0\n",
       "dtype: int64"
      ]
     },
     "execution_count": 18,
     "metadata": {},
     "output_type": "execute_result"
    }
   ],
   "source": [
    "df.isna().sum()"
   ]
  },
  {
   "cell_type": "code",
   "execution_count": 19,
   "metadata": {},
   "outputs": [
    {
     "data": {
      "text/plain": [
       "Happiness_Rank                    int64\n",
       "Healthy_life_expectancy         float64\n",
       "Social_support                  float64\n",
       "Country                          object\n",
       "Economy                         float64\n",
       "Generosity                      float64\n",
       "Year                              int64\n",
       "Freedom_to_make_life_choices    float64\n",
       "Region                           object\n",
       "Perceptions_of_corruption       float64\n",
       "Score                           float64\n",
       "dtype: object"
      ]
     },
     "execution_count": 19,
     "metadata": {},
     "output_type": "execute_result"
    }
   ],
   "source": [
    "df.dtypes"
   ]
  },
  {
   "cell_type": "code",
   "execution_count": 20,
   "metadata": {},
   "outputs": [],
   "source": [
    "df.drop('Happiness_Rank', axis=1, inplace=True)"
   ]
  },
  {
   "cell_type": "code",
   "execution_count": 64,
   "metadata": {},
   "outputs": [],
   "source": [
    "df.to_csv('../data/data_clean.csv', index=False)"
   ]
  },
  {
   "cell_type": "code",
   "execution_count": 21,
   "metadata": {},
   "outputs": [
    {
     "data": {
      "image/png": "[encoded data removed]",
      "text/plain": [
       "<Figure size 640x480 with 2 Axes>"
      ]
     },
     "metadata": {},
     "output_type": "display_data"
    }
   ],
   "source": [
    "correlation= df.select_dtypes(include=[float, int]).corr()\n",
    "\n",
    "ax = sns.heatmap(\n",
    "    correlation,\n",
    "    vmin=-1, vmax=1, center=0,\n",
    "    cmap=sns.diverging_palette(20, 220, n=200),\n",
    "    square=True,\n",
    "    annot=True,\n",
    "    fmt='.2f',\n",
    "    annot_kws={\"size\": 8}\n",
    ")"
   ]
  },
  {
   "cell_type": "markdown",
   "metadata": {},
   "source": [
    "---"
   ]
  },
  {
   "cell_type": "markdown",
   "metadata": {},
   "source": [
    "### **Model training**"
   ]
  },
  {
   "cell_type": "code",
   "execution_count": 40,
   "metadata": {},
   "outputs": [],
   "source": [
    "import pandas as pd\n",
    "from sklearn.model_selection import train_test_split\n",
    "from sklearn.compose import ColumnTransformer\n",
    "from sklearn.preprocessing import StandardScaler\n",
    "from sklearn.ensemble import RandomForestRegressor, GradientBoostingRegressor\n",
    "from sklearn.linear_model import LinearRegression\n",
    "from sklearn.neighbors import KNeighborsRegressor\n",
    "from sklearn.svm import SVR\n",
    "from xgboost import XGBRegressor\n",
    "from sklearn.pipeline import Pipeline\n",
    "from sklearn.metrics import mean_absolute_error, mean_squared_error, r2_score, root_mean_squared_error\n",
    "import joblib\n",
    "import matplotlib.pyplot as plt\n",
    "import seaborn as sns\n",
    "from io import StringIO\n",
    "import sys"
   ]
  },
  {
   "cell_type": "code",
   "execution_count": 23,
   "metadata": {},
   "outputs": [],
   "source": [
    "df = pd.read_csv('../data/data_clean.csv')"
   ]
  },
  {
   "cell_type": "code",
   "execution_count": 24,
   "metadata": {},
   "outputs": [
    {
     "data": {
      "text/html": [
       "<div>\n",
       "<style scoped>\n",
       "    .dataframe tbody tr th:only-of-type {\n",
       "        vertical-align: middle;\n",
       "    }\n",
       "\n",
       "    .dataframe tbody tr th {\n",
       "        vertical-align: top;\n",
       "    }\n",
       "\n",
       "    .dataframe thead th {\n",
       "        text-align: right;\n",
       "    }\n",
       "</style>\n",
       "<table border=\"1\" class=\"dataframe\">\n",
       "  <thead>\n",
       "    <tr style=\"text-align: right;\">\n",
       "      <th></th>\n",
       "      <th>Healthy_life_expectancy</th>\n",
       "      <th>Social_support</th>\n",
       "      <th>Country</th>\n",
       "      <th>Economy</th>\n",
       "      <th>Generosity</th>\n",
       "      <th>Year</th>\n",
       "      <th>Freedom_to_make_life_choices</th>\n",
       "      <th>Region</th>\n",
       "      <th>Perceptions_of_corruption</th>\n",
       "      <th>Score</th>\n",
       "    </tr>\n",
       "  </thead>\n",
       "  <tbody>\n",
       "    <tr>\n",
       "      <th>0</th>\n",
       "      <td>0.94143</td>\n",
       "      <td>1.34951</td>\n",
       "      <td>Switzerland</td>\n",
       "      <td>1.39651</td>\n",
       "      <td>0.29678</td>\n",
       "      <td>2015</td>\n",
       "      <td>0.66557</td>\n",
       "      <td>Western Europe</td>\n",
       "      <td>0.41978</td>\n",
       "      <td>7.587</td>\n",
       "    </tr>\n",
       "    <tr>\n",
       "      <th>1</th>\n",
       "      <td>0.94784</td>\n",
       "      <td>1.40223</td>\n",
       "      <td>Iceland</td>\n",
       "      <td>1.30232</td>\n",
       "      <td>0.43630</td>\n",
       "      <td>2015</td>\n",
       "      <td>0.62877</td>\n",
       "      <td>Western Europe</td>\n",
       "      <td>0.14145</td>\n",
       "      <td>7.561</td>\n",
       "    </tr>\n",
       "    <tr>\n",
       "      <th>2</th>\n",
       "      <td>0.87464</td>\n",
       "      <td>1.36058</td>\n",
       "      <td>Denmark</td>\n",
       "      <td>1.32548</td>\n",
       "      <td>0.34139</td>\n",
       "      <td>2015</td>\n",
       "      <td>0.64938</td>\n",
       "      <td>Western Europe</td>\n",
       "      <td>0.48357</td>\n",
       "      <td>7.527</td>\n",
       "    </tr>\n",
       "    <tr>\n",
       "      <th>3</th>\n",
       "      <td>0.88521</td>\n",
       "      <td>1.33095</td>\n",
       "      <td>Norway</td>\n",
       "      <td>1.45900</td>\n",
       "      <td>0.34699</td>\n",
       "      <td>2015</td>\n",
       "      <td>0.66973</td>\n",
       "      <td>Western Europe</td>\n",
       "      <td>0.36503</td>\n",
       "      <td>7.522</td>\n",
       "    </tr>\n",
       "    <tr>\n",
       "      <th>4</th>\n",
       "      <td>0.90563</td>\n",
       "      <td>1.32261</td>\n",
       "      <td>Canada</td>\n",
       "      <td>1.32629</td>\n",
       "      <td>0.45811</td>\n",
       "      <td>2015</td>\n",
       "      <td>0.63297</td>\n",
       "      <td>North America</td>\n",
       "      <td>0.32957</td>\n",
       "      <td>7.427</td>\n",
       "    </tr>\n",
       "  </tbody>\n",
       "</table>\n",
       "</div>"
      ],
      "text/plain": [
       "   Healthy_life_expectancy  Social_support      Country  Economy  Generosity  \\\n",
       "0                  0.94143         1.34951  Switzerland  1.39651     0.29678   \n",
       "1                  0.94784         1.40223      Iceland  1.30232     0.43630   \n",
       "2                  0.87464         1.36058      Denmark  1.32548     0.34139   \n",
       "3                  0.88521         1.33095       Norway  1.45900     0.34699   \n",
       "4                  0.90563         1.32261       Canada  1.32629     0.45811   \n",
       "\n",
       "   Year  Freedom_to_make_life_choices          Region  \\\n",
       "0  2015                       0.66557  Western Europe   \n",
       "1  2015                       0.62877  Western Europe   \n",
       "2  2015                       0.64938  Western Europe   \n",
       "3  2015                       0.66973  Western Europe   \n",
       "4  2015                       0.63297   North America   \n",
       "\n",
       "   Perceptions_of_corruption  Score  \n",
       "0                    0.41978  7.587  \n",
       "1                    0.14145  7.561  \n",
       "2                    0.48357  7.527  \n",
       "3                    0.36503  7.522  \n",
       "4                    0.32957  7.427  "
      ]
     },
     "execution_count": 24,
     "metadata": {},
     "output_type": "execute_result"
    }
   ],
   "source": [
    "df.head()"
   ]
  },
  {
   "cell_type": "code",
   "execution_count": 25,
   "metadata": {},
   "outputs": [],
   "source": [
    "df = pd.get_dummies(df, columns=['Region'], drop_first=True)"
   ]
  },
  {
   "cell_type": "code",
   "execution_count": 26,
   "metadata": {},
   "outputs": [],
   "source": [
    "df.drop(columns=['Country'], axis=1, inplace=True)"
   ]
  },
  {
   "cell_type": "code",
   "execution_count": 27,
   "metadata": {},
   "outputs": [],
   "source": [
    "X = df.drop(columns=['Score']) \n",
    "y = df['Score'] "
   ]
  },
  {
   "cell_type": "code",
   "execution_count": 28,
   "metadata": {},
   "outputs": [],
   "source": [
    "X_train, X_test, y_train, y_test = train_test_split(X, y, test_size=0.3, random_state=42)"
   ]
  },
  {
   "cell_type": "code",
   "execution_count": 29,
   "metadata": {},
   "outputs": [],
   "source": [
    "num_cols = X.select_dtypes(include=['int64', 'float64']).columns.tolist()\n",
    "\n",
    "preprocessor = ColumnTransformer(\n",
    "    transformers=[\n",
    "        ('num', StandardScaler(), num_cols)  \n",
    "    ]\n",
    ")"
   ]
  },
  {
   "cell_type": "code",
   "execution_count": 30,
   "metadata": {},
   "outputs": [],
   "source": [
    "models = {\n",
    "    'Linear_Regression': LinearRegression(),\n",
    "    'Random_Forest': RandomForestRegressor(random_state=42),\n",
    "    'Gradient_Boosting': GradientBoostingRegressor(random_state=42),\n",
    "    'Support_Vector_Regression': SVR(),\n",
    "    'KNN_Regression': KNeighborsRegressor(),\n",
    "    'XGBoost': XGBRegressor(random_state=42)\n",
    "}"
   ]
  },
  {
   "cell_type": "code",
   "execution_count": 33,
   "metadata": {},
   "outputs": [],
   "source": [
    "def evaluate_models(X_train, y_train, X_test, y_test, models):\n",
    "    results = {}\n",
    "    best_model_name = None\n",
    "    best_r2 = -float('inf') \n",
    "    best_pipeline = None\n",
    "\n",
    "    for model_name, model in models.items():\n",
    "        pipeline = Pipeline(steps=[  \n",
    "            ('preprocessor', preprocessor),\n",
    "            ('regressor', model)  \n",
    "        ])\n",
    "        \n",
    "        pipeline.fit(X_train, y_train)  \n",
    "        \n",
    "        y_pred = pipeline.predict(X_test) \n",
    "        \n",
    "        mae = mean_absolute_error(y_test, y_pred)\n",
    "        mse_value = mean_squared_error(y_test, y_pred)\n",
    "        rmse = root_mean_squared_error(y_test, y_pred) \n",
    "        r2 = r2_score(y_test, y_pred)\n",
    "\n",
    "        results[model_name] = {\n",
    "            'MAE': mae,\n",
    "            'MSE': mse_value,\n",
    "            'RMSE': rmse,\n",
    "            'R²': r2\n",
    "        }\n",
    "\n",
    "        print(\"---------------------------------------------------------\")\n",
    "        print(f\"{model_name} Results:\")\n",
    "        print(f\"R²: {r2:.4f} \\nMAE: {mae:.4f}, MSE: {mse_value:.4f}, RMSE: {rmse:.4f}\")\n",
    "        print(\"---------------------------------------------------------\")\n",
    "        \n",
    "        if r2 > best_r2:\n",
    "            best_r2 = r2\n",
    "            best_model_name = model_name\n",
    "            best_pipeline = pipeline\n",
    "\n",
    "    if best_pipeline is not None:\n",
    "        best_model_path = f'../models/best_model_{best_model_name}.pkl'\n",
    "        joblib.dump(best_pipeline, f'../models/best_model_{best_model_name}.pkl')\n",
    "        print(f\"Best model saved as: ../models/best_model_{best_model_name}.pkl\")\n",
    "\n"
   ]
  },
  {
   "cell_type": "code",
   "execution_count": 38,
   "metadata": {},
   "outputs": [
    {
     "name": "stdout",
     "output_type": "stream",
     "text": [
      "---------------------------------------------------------\n",
      "Linear_Regression Results:\n",
      "R²: 0.7632 \n",
      "MAE: 0.4201, MSE: 0.2957, RMSE: 0.5438\n",
      "---------------------------------------------------------\n"
     ]
    },
    {
     "name": "stdout",
     "output_type": "stream",
     "text": [
      "---------------------------------------------------------\n",
      "Random_Forest Results:\n",
      "R²: 0.8170 \n",
      "MAE: 0.3723, MSE: 0.2285, RMSE: 0.4780\n",
      "---------------------------------------------------------\n",
      "---------------------------------------------------------\n",
      "Gradient_Boosting Results:\n",
      "R²: 0.8025 \n",
      "MAE: 0.3916, MSE: 0.2466, RMSE: 0.4966\n",
      "---------------------------------------------------------\n",
      "---------------------------------------------------------\n",
      "Support_Vector_Regression Results:\n",
      "R²: 0.8144 \n",
      "MAE: 0.3715, MSE: 0.2318, RMSE: 0.4814\n",
      "---------------------------------------------------------\n",
      "---------------------------------------------------------\n",
      "KNN_Regression Results:\n",
      "R²: 0.7914 \n",
      "MAE: 0.3927, MSE: 0.2605, RMSE: 0.5104\n",
      "---------------------------------------------------------\n",
      "---------------------------------------------------------\n",
      "XGBoost Results:\n",
      "R²: 0.7836 \n",
      "MAE: 0.3987, MSE: 0.2702, RMSE: 0.5199\n",
      "---------------------------------------------------------\n",
      "Best model saved as: ../models/best_model_Random_Forest.pkl\n",
      "\n"
     ]
    }
   ],
   "source": [
    "evaluate_models(X_train, y_train, X_test, y_test, models)\n",
    "\n",
    "old_stdout = sys.stdout\n",
    "sys.stdout = StringIO()\n",
    "\n",
    "output = sys.stdout.getvalue()\n",
    "\n",
    "sys.stdout = old_stdout\n",
    "\n",
    "print(output)"
   ]
  }
 ],
 "metadata": {
  "kernelspec": {
   "display_name": "venv",
   "language": "python",
   "name": "python3"
  },
  "language_info": {
   "codemirror_mode": {
    "name": "ipython",
    "version": 3
   },
   "file_extension": ".py",
   "mimetype": "text/x-python",
   "name": "python",
   "nbconvert_exporter": "python",
   "pygments_lexer": "ipython3",
   "version": "3.12.3"
  }
 },
 "nbformat": 4,
 "nbformat_minor": 2
}
